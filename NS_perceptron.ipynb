{
 "cells": [
  {
   "cell_type": "code",
   "execution_count": 14,
   "metadata": {},
   "outputs": [],
   "source": [
    "#import potrebných knižníc\n",
    "import numpy as np\n",
    "import pandas as pd\n",
    "import matplotlib.pyplot as plt"
   ]
  },
  {
   "cell_type": "code",
   "execution_count": 15,
   "metadata": {},
   "outputs": [
    {
     "data": {
      "text/html": [
       "<div>\n",
       "<style scoped>\n",
       "    .dataframe tbody tr th:only-of-type {\n",
       "        vertical-align: middle;\n",
       "    }\n",
       "\n",
       "    .dataframe tbody tr th {\n",
       "        vertical-align: top;\n",
       "    }\n",
       "\n",
       "    .dataframe thead th {\n",
       "        text-align: right;\n",
       "    }\n",
       "</style>\n",
       "<table border=\"1\" class=\"dataframe\">\n",
       "  <thead>\n",
       "    <tr style=\"text-align: right;\">\n",
       "      <th></th>\n",
       "      <th>0</th>\n",
       "      <th>1</th>\n",
       "      <th>2</th>\n",
       "      <th>3</th>\n",
       "      <th>4</th>\n",
       "    </tr>\n",
       "  </thead>\n",
       "  <tbody>\n",
       "    <tr>\n",
       "      <th>0</th>\n",
       "      <td>5.1</td>\n",
       "      <td>3.5</td>\n",
       "      <td>1.4</td>\n",
       "      <td>0.2</td>\n",
       "      <td>kosatec_sibirsky</td>\n",
       "    </tr>\n",
       "    <tr>\n",
       "      <th>1</th>\n",
       "      <td>4.9</td>\n",
       "      <td>3.0</td>\n",
       "      <td>1.4</td>\n",
       "      <td>0.2</td>\n",
       "      <td>kosatec_sibirsky</td>\n",
       "    </tr>\n",
       "    <tr>\n",
       "      <th>2</th>\n",
       "      <td>4.7</td>\n",
       "      <td>3.2</td>\n",
       "      <td>1.3</td>\n",
       "      <td>0.2</td>\n",
       "      <td>kosatec_sibirsky</td>\n",
       "    </tr>\n",
       "    <tr>\n",
       "      <th>3</th>\n",
       "      <td>4.6</td>\n",
       "      <td>3.1</td>\n",
       "      <td>1.5</td>\n",
       "      <td>0.2</td>\n",
       "      <td>kosatec_sibirsky</td>\n",
       "    </tr>\n",
       "    <tr>\n",
       "      <th>4</th>\n",
       "      <td>5.0</td>\n",
       "      <td>3.6</td>\n",
       "      <td>1.4</td>\n",
       "      <td>0.2</td>\n",
       "      <td>kosatec_sibirsky</td>\n",
       "    </tr>\n",
       "    <tr>\n",
       "      <th>...</th>\n",
       "      <td>...</td>\n",
       "      <td>...</td>\n",
       "      <td>...</td>\n",
       "      <td>...</td>\n",
       "      <td>...</td>\n",
       "    </tr>\n",
       "    <tr>\n",
       "      <th>145</th>\n",
       "      <td>6.7</td>\n",
       "      <td>3.0</td>\n",
       "      <td>5.2</td>\n",
       "      <td>2.3</td>\n",
       "      <td>kosatec_bezlisty</td>\n",
       "    </tr>\n",
       "    <tr>\n",
       "      <th>146</th>\n",
       "      <td>6.3</td>\n",
       "      <td>2.5</td>\n",
       "      <td>5.0</td>\n",
       "      <td>1.9</td>\n",
       "      <td>kosatec_bezlisty</td>\n",
       "    </tr>\n",
       "    <tr>\n",
       "      <th>147</th>\n",
       "      <td>6.5</td>\n",
       "      <td>3.0</td>\n",
       "      <td>5.2</td>\n",
       "      <td>2.0</td>\n",
       "      <td>kosatec_bezlisty</td>\n",
       "    </tr>\n",
       "    <tr>\n",
       "      <th>148</th>\n",
       "      <td>6.2</td>\n",
       "      <td>3.4</td>\n",
       "      <td>5.4</td>\n",
       "      <td>2.3</td>\n",
       "      <td>kosatec_bezlisty</td>\n",
       "    </tr>\n",
       "    <tr>\n",
       "      <th>149</th>\n",
       "      <td>5.9</td>\n",
       "      <td>3.0</td>\n",
       "      <td>5.1</td>\n",
       "      <td>1.8</td>\n",
       "      <td>kosatec_bezlisty</td>\n",
       "    </tr>\n",
       "  </tbody>\n",
       "</table>\n",
       "<p>150 rows × 5 columns</p>\n",
       "</div>"
      ],
      "text/plain": [
       "       0    1    2    3                 4\n",
       "0    5.1  3.5  1.4  0.2  kosatec_sibirsky\n",
       "1    4.9  3.0  1.4  0.2  kosatec_sibirsky\n",
       "2    4.7  3.2  1.3  0.2  kosatec_sibirsky\n",
       "3    4.6  3.1  1.5  0.2  kosatec_sibirsky\n",
       "4    5.0  3.6  1.4  0.2  kosatec_sibirsky\n",
       "..   ...  ...  ...  ...               ...\n",
       "145  6.7  3.0  5.2  2.3  kosatec_bezlisty\n",
       "146  6.3  2.5  5.0  1.9  kosatec_bezlisty\n",
       "147  6.5  3.0  5.2  2.0  kosatec_bezlisty\n",
       "148  6.2  3.4  5.4  2.3  kosatec_bezlisty\n",
       "149  5.9  3.0  5.1  1.8  kosatec_bezlisty\n",
       "\n",
       "[150 rows x 5 columns]"
      ]
     },
     "execution_count": 15,
     "metadata": {},
     "output_type": "execute_result"
    }
   ],
   "source": [
    "#príprava dát\n",
    "df= pd.read_csv('kosatec_data.csv', header=None)\n",
    "df"
   ]
  },
  {
   "cell_type": "code",
   "execution_count": 16,
   "metadata": {},
   "outputs": [],
   "source": [
    "# konštruktor perceptrónu\n",
    "class Perceptron():   \n",
    "    #vytvorenie metódy init\n",
    "    def __init__(self, rychlost_ucenia=0.01, pocet_iteracii=10): #zadanie parametrov učenia\n",
    "        #vloženie parametrov do premenných\n",
    "        self.eta = rychlost_ucenia \n",
    "        self.n_iter = pocet_iteracii      \n",
    "    #vytvorenie metódy fit, v ktorej prebieha učenie s trénovacou maticou X a polom y s očakávanými výsledkami\n",
    "    #do funkcie vstupujú x a y z datasetu\n",
    "    def fit(self, X,y):\n",
    "        #vytvorenie váh ako nulová matica kde prvý stĺpec je bias\n",
    "        #šírka pola je 1+(počet prvkov v riadku matice x)\n",
    "        self.vahy = np.zeros(1+ X.shape[1])\n",
    "        #vytvorenie prázdneho pola pre ukladanie chýb\n",
    "        self.errors_=[]\n",
    "        \n",
    "        #cyklus pre uskutočnenie nami zadaného počtu iterácií, teda počet prejdení po datasete\n",
    "        for i in range(self.n_iter):\n",
    "            #pomocou errors budeme vedieť koľko chýb nastane počas iterácií\n",
    "            errors = 0 \n",
    "            #v cykle sa uskutočňuje učenie siete\n",
    "            for matica,vystup in zip(X,y):\n",
    "                update = self.eta * (vystup-self.predikcia(matica))\n",
    "                #pomocou hodhoty update upravíme váhy\n",
    "                self.vahy[1:] += update*matica\n",
    "                self.vahy[0]+= update\n",
    "                #keď hodnota update nie je 0, nastala chyba a errors sa zvýši\n",
    "                errors += int(update !=0.0)\n",
    "            #do poľa errors je vložená premenná errors, použijeme na vykreslenie grafu\n",
    "            self.errors_.append(errors)\n",
    "        return self  \n",
    "    #pripočítame k váham bias, kt. dovoľuje posunutie aktivačnej funkcie vpravo al. ľavo \n",
    "    #vypočítanie výstupu perceptrónu\n",
    "    def net_input(self, X):\n",
    "        return np.dot(X, self.vahy[1:])+ self.vahy[0]\n",
    "    #počítanie predikcie, určíme typ kosatca, vráti 1 keď net_input je >=0 a vráti -1 v opačnom prípade\n",
    "    def predikcia(self, X):\n",
    "        return np.where(self.net_input(X) >= 0.0, 1, -1)"
   ]
  },
  {
   "cell_type": "code",
   "execution_count": 17,
   "metadata": {},
   "outputs": [],
   "source": [
    "#nacitanie prvych 100 hodnot z 1. a 3. stplca datasetu do matice \n",
    "x=df.iloc[0:100,[0,2]].values\n",
    "#nacitanie hodnot 5. stpca datesetu do matice\n",
    "y=df.iloc[0:100,[4]].values"
   ]
  },
  {
   "cell_type": "code",
   "execution_count": 23,
   "metadata": {
    "scrolled": true
   },
   "outputs": [
    {
     "name": "stdout",
     "output_type": "stream",
     "text": [
      "[2, 2, 3, 2, 1, 0, 0, 0, 0, 0]\n"
     ]
    },
    {
     "data": {
      "image/png": "[encoded data removed]",
      "text/plain": [
       "<Figure size 432x288 with 1 Axes>"
      ]
     },
     "metadata": {
      "needs_background": "light"
     },
     "output_type": "display_data"
    }
   ],
   "source": [
    "skupinyRastlin=np.where(y=='kosatec_sibirsky',-1,1) #ak sa 5. stĺpec zhoduje s  kosatec_sibirsky daj -1 ak nie 1\n",
    "#nastavíme rýchlosť učenia na 0.1 a počet iterácii na 10\n",
    "ppn=Perceptron(0.1, 10)\n",
    "#spustenie funkcie fit s parametrami x a skupinyRastlin, ktoré sme načítali z datasetu\n",
    "ppn.fit(x,skupinyRastlin)\n",
    "\n",
    "print(ppn.errors_)\n",
    "plt.plot(ppn.errors_)\n",
    "\n",
    "plt.xlabel('pocet iteracii ') #number of epochs(počet prejdení po datasete)\n",
    "plt.ylabel('error')\n",
    "plt.show()#zobrazenie grafu"
   ]
  },
  {
   "cell_type": "code",
   "execution_count": 26,
   "metadata": {},
   "outputs": [
    {
     "name": "stdout",
     "output_type": "stream",
     "text": [
      "[[5.1 1.4]\n",
      " [4.9 1.4]\n",
      " [4.7 1.3]\n",
      " [4.6 1.5]\n",
      " [5.  1.4]]\n",
      "[['kosatec_sibirsky']\n",
      " ['kosatec_sibirsky']\n",
      " ['kosatec_sibirsky']\n",
      " ['kosatec_sibirsky']\n",
      " ['kosatec_sibirsky']\n",
      " ['kosatec_sibirsky']\n",
      " ['kosatec_sibirsky']\n",
      " ['kosatec_sibirsky']\n",
      " ['kosatec_sibirsky']\n",
      " ['kosatec_sibirsky']\n",
      " ['kosatec_sibirsky']\n",
      " ['kosatec_sibirsky']\n",
      " ['kosatec_sibirsky']\n",
      " ['kosatec_sibirsky']\n",
      " ['kosatec_sibirsky']\n",
      " ['kosatec_sibirsky']\n",
      " ['kosatec_sibirsky']\n",
      " ['kosatec_sibirsky']\n",
      " ['kosatec_sibirsky']\n",
      " ['kosatec_sibirsky']\n",
      " ['kosatec_sibirsky']\n",
      " ['kosatec_sibirsky']\n",
      " ['kosatec_sibirsky']\n",
      " ['kosatec_sibirsky']\n",
      " ['kosatec_sibirsky']\n",
      " ['kosatec_sibirsky']\n",
      " ['kosatec_sibirsky']\n",
      " ['kosatec_sibirsky']\n",
      " ['kosatec_sibirsky']\n",
      " ['kosatec_sibirsky']\n",
      " ['kosatec_sibirsky']\n",
      " ['kosatec_sibirsky']\n",
      " ['kosatec_sibirsky']\n",
      " ['kosatec_sibirsky']\n",
      " ['kosatec_sibirsky']\n",
      " ['kosatec_sibirsky']\n",
      " ['kosatec_sibirsky']\n",
      " ['kosatec_sibirsky']\n",
      " ['kosatec_sibirsky']\n",
      " ['kosatec_sibirsky']\n",
      " ['kosatec_sibirsky']\n",
      " ['kosatec_sibirsky']\n",
      " ['kosatec_sibirsky']\n",
      " ['kosatec_sibirsky']\n",
      " ['kosatec_sibirsky']\n",
      " ['kosatec_sibirsky']\n",
      " ['kosatec_sibirsky']\n",
      " ['kosatec_sibirsky']\n",
      " ['kosatec_sibirsky']\n",
      " ['kosatec_sibirsky']\n",
      " ['kosatec_roznofarebny']\n",
      " ['kosatec_roznofarebny']\n",
      " ['kosatec_roznofarebny']\n",
      " ['kosatec_roznofarebny']\n",
      " ['kosatec_roznofarebny']\n",
      " ['kosatec_roznofarebny']\n",
      " ['kosatec_roznofarebny']\n",
      " ['kosatec_roznofarebny']\n",
      " ['kosatec_roznofarebny']\n",
      " ['kosatec_roznofarebny']\n",
      " ['kosatec_roznofarebny']\n",
      " ['kosatec_roznofarebny']\n",
      " ['kosatec_roznofarebny']\n",
      " ['kosatec_roznofarebny']\n",
      " ['kosatec_roznofarebny']\n",
      " ['kosatec_roznofarebny']\n",
      " ['kosatec_roznofarebny']\n",
      " ['kosatec_roznofarebny']\n",
      " ['kosatec_roznofarebny']\n",
      " ['kosatec_roznofarebny']\n",
      " ['kosatec_roznofarebny']\n",
      " ['kosatec_roznofarebny']\n",
      " ['kosatec_roznofarebny']\n",
      " ['kosatec_roznofarebny']\n",
      " ['kosatec_roznofarebny']\n",
      " ['kosatec_roznofarebny']\n",
      " ['kosatec_roznofarebny']\n",
      " ['kosatec_roznofarebny']\n",
      " ['kosatec_roznofarebny']\n",
      " ['kosatec_roznofarebny']\n",
      " ['kosatec_roznofarebny']\n",
      " ['kosatec_roznofarebny']\n",
      " ['kosatec_roznofarebny']\n",
      " ['kosatec_roznofarebny']\n",
      " ['kosatec_roznofarebny']\n",
      " ['kosatec_roznofarebny']\n",
      " ['kosatec_roznofarebny']\n",
      " ['kosatec_roznofarebny']\n",
      " ['kosatec_roznofarebny']\n",
      " ['kosatec_roznofarebny']\n",
      " ['kosatec_roznofarebny']\n",
      " ['kosatec_roznofarebny']\n",
      " ['kosatec_roznofarebny']\n",
      " ['kosatec_roznofarebny']\n",
      " ['kosatec_roznofarebny']\n",
      " ['kosatec_roznofarebny']\n",
      " ['kosatec_roznofarebny']\n",
      " ['kosatec_roznofarebny']\n",
      " ['kosatec_roznofarebny']\n",
      " ['kosatec_roznofarebny']]\n"
     ]
    }
   ],
   "source": [
    "print(x[:5]) #výpis matice x, prvých 5 hodnôt\n",
    "print(y) #výpis matice y, všetky hodnoty"
   ]
  },
  {
   "cell_type": "code",
   "execution_count": 20,
   "metadata": {
    "scrolled": true
   },
   "outputs": [
    {
     "name": "stdout",
     "output_type": "stream",
     "text": [
      "[1, 3, 3, 2, 1, 0, 0, 0, 0, 0]\n"
     ]
    },
    {
     "data": {
      "image/png": "[encoded data removed]",
      "text/plain": [
       "<Figure size 432x288 with 1 Axes>"
      ]
     },
     "metadata": {
      "needs_background": "light"
     },
     "output_type": "display_data"
    }
   ],
   "source": [
    "skupinyRastlin2=np.where(y=='kosatec_roznofarebny',-1,1) #ak sa 5. stĺpec zhoduje s  kosatec_roznofarebny daj -1 ak nie 1\n",
    "#nastavíme rýchlosť učenia na 0.1 a počet iterácii na 10\n",
    "ppn=Perceptron(0.1, 10)\n",
    "\n",
    "ppn.fit(x,skupinyRastlin2)\n",
    "\n",
    "print(ppn.errors_)\n",
    "plt.plot(ppn.errors_)\n",
    "\n",
    "plt.xlabel('pocet iteracii ') #number of epochs(počet prejdení po datasete)\n",
    "plt.ylabel('error')\n",
    "plt.show()#zobrazenie grafu"
   ]
  },
  {
   "cell_type": "code",
   "execution_count": 22,
   "metadata": {},
   "outputs": [
    {
     "name": "stdout",
     "output_type": "stream",
     "text": [
      "[0, 0, 0, 0, 0, 0, 0, 0, 0, 0]\n"
     ]
    },
    {
     "data": {
      "image/png": "[encoded data removed]",
      "text/plain": [
       "<Figure size 432x288 with 1 Axes>"
      ]
     },
     "metadata": {
      "needs_background": "light"
     },
     "output_type": "display_data"
    }
   ],
   "source": [
    "skupinyRastlin3=np.where(y=='kosatec_bezlisty',-1,1)#ak sa 5. stĺpec zhoduje s  kosatec_bezlisty daj -1 ak nie 1\n",
    "#nastavíme rýchlosť učenia na 0.1 a počet iterácii na 10\n",
    "ppn=Perceptron(0.1, 10)\n",
    "\n",
    "ppn.fit(x,skupinyRastlin3)\n",
    "\n",
    "print(ppn.errors_)\n",
    "plt.plot(ppn.errors_)\n",
    "\n",
    "plt.xlabel('pocet iteracii ') #number of epochs(počet prejdení po datasete)\n",
    "plt.ylabel('error')\n",
    "plt.show() #zobrazenie grafu"
   ]
  },
  {
   "cell_type": "code",
   "execution_count": 6,
   "metadata": {},
   "outputs": [],
   "source": [
    "import matplotlib.pyplot as plt"
   ]
  },
  {
   "cell_type": "code",
   "execution_count": 34,
   "metadata": {},
   "outputs": [
    {
     "data": {
      "image/png": "[encoded data removed]",
      "text/plain": [
       "<Figure size 432x288 with 1 Axes>"
      ]
     },
     "metadata": {
      "needs_background": "light"
     },
     "output_type": "display_data"
    }
   ],
   "source": [
    "plt.scatter(x[:50,0],x[:50,1],color='blue',label='kosatec_sibirsky')\n",
    "plt.scatter(x[50:100,0],x[50:100,1],color='red',label='kosatec_roznofarebny')\n",
    "\n",
    "plt.xlabel('sepal length')\n",
    "plt.ylabel('petal length')\n",
    "\n",
    "plt.legend()\n",
    "plt.show()"
   ]
  },
  {
   "cell_type": "code",
   "execution_count": 36,
   "metadata": {},
   "outputs": [
    {
     "data": {
      "image/png": "[encoded data removed]",
      "text/plain": [
       "<Figure size 432x288 with 1 Axes>"
      ]
     },
     "metadata": {
      "needs_background": "light"
     },
     "output_type": "display_data"
    }
   ],
   "source": [
    "plt.scatter(x[50:100,0],x[50:100,1],color='red',label='kosatec_roznofarebny')\n",
    "plt.scatter(x[100:,0],x[100:,1],color='blue',label='kosatec_bezlisty')\n",
    "\n",
    "\n",
    "plt.xlabel('sepal length')\n",
    "plt.ylabel('petal length')\n",
    "\n",
    "plt.legend()\n",
    "plt.show()"
   ]
  },
  {
   "cell_type": "code",
   "execution_count": 31,
   "metadata": {},
   "outputs": [
    {
     "data": {
      "text/plain": [
       "array(['kosatec_sibirsky', 'kosatec_sibirsky', 'kosatec_sibirsky',\n",
       "       'kosatec_sibirsky', 'kosatec_sibirsky', 'kosatec_sibirsky',\n",
       "       'kosatec_sibirsky', 'kosatec_sibirsky', 'kosatec_sibirsky',\n",
       "       'kosatec_sibirsky', 'kosatec_sibirsky', 'kosatec_sibirsky',\n",
       "       'kosatec_sibirsky', 'kosatec_sibirsky', 'kosatec_sibirsky',\n",
       "       'kosatec_sibirsky', 'kosatec_sibirsky', 'kosatec_sibirsky',\n",
       "       'kosatec_sibirsky', 'kosatec_sibirsky', 'kosatec_sibirsky',\n",
       "       'kosatec_sibirsky', 'kosatec_sibirsky', 'kosatec_sibirsky',\n",
       "       'kosatec_sibirsky', 'kosatec_sibirsky', 'kosatec_sibirsky',\n",
       "       'kosatec_sibirsky', 'kosatec_sibirsky', 'kosatec_sibirsky',\n",
       "       'kosatec_sibirsky', 'kosatec_sibirsky', 'kosatec_sibirsky',\n",
       "       'kosatec_sibirsky', 'kosatec_sibirsky', 'kosatec_sibirsky',\n",
       "       'kosatec_sibirsky', 'kosatec_sibirsky', 'kosatec_sibirsky',\n",
       "       'kosatec_sibirsky', 'kosatec_sibirsky', 'kosatec_sibirsky',\n",
       "       'kosatec_sibirsky', 'kosatec_sibirsky', 'kosatec_sibirsky',\n",
       "       'kosatec_sibirsky', 'kosatec_sibirsky', 'kosatec_sibirsky',\n",
       "       'kosatec_sibirsky', 'kosatec_sibirsky', 'kosatec_roznofarebny',\n",
       "       'kosatec_roznofarebny', 'kosatec_roznofarebny',\n",
       "       'kosatec_roznofarebny', 'kosatec_roznofarebny',\n",
       "       'kosatec_roznofarebny', 'kosatec_roznofarebny',\n",
       "       'kosatec_roznofarebny', 'kosatec_roznofarebny',\n",
       "       'kosatec_roznofarebny', 'kosatec_roznofarebny',\n",
       "       'kosatec_roznofarebny', 'kosatec_roznofarebny',\n",
       "       'kosatec_roznofarebny', 'kosatec_roznofarebny',\n",
       "       'kosatec_roznofarebny', 'kosatec_roznofarebny',\n",
       "       'kosatec_roznofarebny', 'kosatec_roznofarebny',\n",
       "       'kosatec_roznofarebny', 'kosatec_roznofarebny',\n",
       "       'kosatec_roznofarebny', 'kosatec_roznofarebny',\n",
       "       'kosatec_roznofarebny', 'kosatec_roznofarebny',\n",
       "       'kosatec_roznofarebny', 'kosatec_roznofarebny',\n",
       "       'kosatec_roznofarebny', 'kosatec_roznofarebny',\n",
       "       'kosatec_roznofarebny', 'kosatec_roznofarebny',\n",
       "       'kosatec_roznofarebny', 'kosatec_roznofarebny',\n",
       "       'kosatec_roznofarebny', 'kosatec_roznofarebny',\n",
       "       'kosatec_roznofarebny', 'kosatec_roznofarebny',\n",
       "       'kosatec_roznofarebny', 'kosatec_roznofarebny',\n",
       "       'kosatec_roznofarebny', 'kosatec_roznofarebny',\n",
       "       'kosatec_roznofarebny', 'kosatec_roznofarebny',\n",
       "       'kosatec_roznofarebny', 'kosatec_roznofarebny',\n",
       "       'kosatec_roznofarebny', 'kosatec_roznofarebny',\n",
       "       'kosatec_roznofarebny', 'kosatec_roznofarebny',\n",
       "       'kosatec_roznofarebny', 'kosatec_bezlisty', 'kosatec_bezlisty',\n",
       "       'kosatec_bezlisty', 'kosatec_bezlisty', 'kosatec_bezlisty',\n",
       "       'kosatec_bezlisty', 'kosatec_bezlisty', 'kosatec_bezlisty',\n",
       "       'kosatec_bezlisty', 'kosatec_bezlisty', 'kosatec_bezlisty',\n",
       "       'kosatec_bezlisty', 'kosatec_bezlisty', 'kosatec_bezlisty',\n",
       "       'kosatec_bezlisty', 'kosatec_bezlisty', 'kosatec_bezlisty',\n",
       "       'kosatec_bezlisty', 'kosatec_bezlisty', 'kosatec_bezlisty',\n",
       "       'kosatec_bezlisty', 'kosatec_bezlisty', 'kosatec_bezlisty',\n",
       "       'kosatec_bezlisty', 'kosatec_bezlisty', 'kosatec_bezlisty',\n",
       "       'kosatec_bezlisty', 'kosatec_bezlisty', 'kosatec_bezlisty',\n",
       "       'kosatec_bezlisty', 'kosatec_bezlisty', 'kosatec_bezlisty',\n",
       "       'kosatec_bezlisty', 'kosatec_bezlisty', 'kosatec_bezlisty',\n",
       "       'kosatec_bezlisty', 'kosatec_bezlisty', 'kosatec_bezlisty',\n",
       "       'kosatec_bezlisty', 'kosatec_bezlisty', 'kosatec_bezlisty',\n",
       "       'kosatec_bezlisty', 'kosatec_bezlisty', 'kosatec_bezlisty',\n",
       "       'kosatec_bezlisty', 'kosatec_bezlisty', 'kosatec_bezlisty',\n",
       "       'kosatec_bezlisty', 'kosatec_bezlisty', 'kosatec_bezlisty'],\n",
       "      dtype=object)"
      ]
     },
     "execution_count": 31,
     "metadata": {},
     "output_type": "execute_result"
    }
   ],
   "source": [
    "y = df.iloc[0:150, 4].values\n",
    "y"
   ]
  },
  {
   "cell_type": "code",
   "execution_count": null,
   "metadata": {},
   "outputs": [],
   "source": []
  }
 ],
 "metadata": {
  "kernelspec": {
   "display_name": "Python 3",
   "language": "python",
   "name": "python3"
  },
  "language_info": {
   "codemirror_mode": {
    "name": "ipython",
    "version": 3
   },
   "file_extension": ".py",
   "mimetype": "text/x-python",
   "name": "python",
   "nbconvert_exporter": "python",
   "pygments_lexer": "ipython3",
   "version": "3.8.5"
  }
 },
 "nbformat": 4,
 "nbformat_minor": 4
}
