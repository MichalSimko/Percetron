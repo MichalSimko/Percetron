{
 "cells": [
  {
   "cell_type": "code",
   "execution_count": 1,
   "metadata": {},
   "outputs": [],
   "source": [
    "from matplotlib import pyplot as plt\n",
    "from matplotlib.colors import ListedColormap\n",
    "import numpy as np\n",
    "import pandas as pd  "
   ]
  },
  {
   "cell_type": "code",
   "execution_count": 2,
   "metadata": {},
   "outputs": [],
   "source": [
    "# Perceptron je jednoducha forma neuronovej siete \n",
    "# vstupy -  1-bias,x1,x2,x3, \n",
    "# váhy - w0,w1,w2,w3,\n",
    "\n",
    "\n",
    "# (1)----w0-->\n",
    "# (x1)---w1--> (net_input)---->(aktivacna funkcia)-->vysledok\n",
    "# (x2)---w2-->\n",
    "# (x3)---w3-->"
   ]
  },
  {
   "cell_type": "code",
   "execution_count": 3,
   "metadata": {},
   "outputs": [],
   "source": [
    "class Perceptron():   # trieda Perceptron\n",
    "    \n",
    "    # Konštruktor, počet iterácií a rychlosť učenia\n",
    "    def __init__(self, rychlost_ucenia=0.01, pocet_iteracii=10):  \n",
    "        \n",
    "        self.eta = rychlost_ucenia\n",
    "        self.n_iter = pocet_iteracii\n",
    "    # Metodá učenia eviduje váhy w a chyby pri každej iterácii čiže pri každom prepehnutí\n",
    "    # Pole váh bude pole núl. Počet prvkov poľa bude vždy o 1 väčší, než počet prvkov, ktoré do poľa prišli. prvím prvkom je vždy bias \n",
    "    def fit(self, x,y):\n",
    "        self.vahy = np.zeros(1+ x.shape[1])\n",
    "        self.errors_=[]  \n",
    "        \n",
    "        for i in range(self.n_iter):\n",
    "            errors = 0\n",
    "            \n",
    "            for matica,vystup in zip(x,y):\n",
    "                update = self.eta * (vystup-self.predikcia(matica))\n",
    "                self.vahy[1:] += update*matica\n",
    "                self.vahy[0]+= update\n",
    "                errors += int(update !=0.0)\n",
    "                \n",
    "            self.errors_.append(errors)        \n",
    "        \n",
    "        return self  \n",
    "    \n",
    "    # vstup bez vád (čisty vstup)\n",
    "    def net_input(self, x):\n",
    "        return np.dot(x, self.vahy[1:])+ self.vahy[0]\n",
    "\n",
    "    # Predvidatelnosť mi vráti 0 alebo 1 ( predikcia prvkov )\n",
    "    def predikcia(self, x):\n",
    "        return np.where(self.net_input(x) >= 0.0, 1, -1)\n",
    "        "
   ]
  },
  {
   "cell_type": "code",
   "execution_count": 4,
   "metadata": {},
   "outputs": [
    {
     "data": {
      "text/html": [
       "<div>\n",
       "<style scoped>\n",
       "    .dataframe tbody tr th:only-of-type {\n",
       "        vertical-align: middle;\n",
       "    }\n",
       "\n",
       "    .dataframe tbody tr th {\n",
       "        vertical-align: top;\n",
       "    }\n",
       "\n",
       "    .dataframe thead th {\n",
       "        text-align: right;\n",
       "    }\n",
       "</style>\n",
       "<table border=\"1\" class=\"dataframe\">\n",
       "  <thead>\n",
       "    <tr style=\"text-align: right;\">\n",
       "      <th></th>\n",
       "      <th>0</th>\n",
       "      <th>1</th>\n",
       "      <th>2</th>\n",
       "      <th>3</th>\n",
       "      <th>4</th>\n",
       "    </tr>\n",
       "  </thead>\n",
       "  <tbody>\n",
       "    <tr>\n",
       "      <th>0</th>\n",
       "      <td>5.1</td>\n",
       "      <td>3.5</td>\n",
       "      <td>1.4</td>\n",
       "      <td>0.2</td>\n",
       "      <td>kosatec_sibirsky</td>\n",
       "    </tr>\n",
       "    <tr>\n",
       "      <th>1</th>\n",
       "      <td>4.9</td>\n",
       "      <td>3.0</td>\n",
       "      <td>1.4</td>\n",
       "      <td>0.2</td>\n",
       "      <td>kosatec_sibirsky</td>\n",
       "    </tr>\n",
       "    <tr>\n",
       "      <th>2</th>\n",
       "      <td>4.7</td>\n",
       "      <td>3.2</td>\n",
       "      <td>1.3</td>\n",
       "      <td>0.2</td>\n",
       "      <td>kosatec_sibirsky</td>\n",
       "    </tr>\n",
       "    <tr>\n",
       "      <th>3</th>\n",
       "      <td>4.6</td>\n",
       "      <td>3.1</td>\n",
       "      <td>1.5</td>\n",
       "      <td>0.2</td>\n",
       "      <td>kosatec_sibirsky</td>\n",
       "    </tr>\n",
       "    <tr>\n",
       "      <th>4</th>\n",
       "      <td>5.0</td>\n",
       "      <td>3.6</td>\n",
       "      <td>1.4</td>\n",
       "      <td>0.2</td>\n",
       "      <td>kosatec_sibirsky</td>\n",
       "    </tr>\n",
       "    <tr>\n",
       "      <th>...</th>\n",
       "      <td>...</td>\n",
       "      <td>...</td>\n",
       "      <td>...</td>\n",
       "      <td>...</td>\n",
       "      <td>...</td>\n",
       "    </tr>\n",
       "    <tr>\n",
       "      <th>145</th>\n",
       "      <td>6.7</td>\n",
       "      <td>3.0</td>\n",
       "      <td>5.2</td>\n",
       "      <td>2.3</td>\n",
       "      <td>kosatec_bezlisty</td>\n",
       "    </tr>\n",
       "    <tr>\n",
       "      <th>146</th>\n",
       "      <td>6.3</td>\n",
       "      <td>2.5</td>\n",
       "      <td>5.0</td>\n",
       "      <td>1.9</td>\n",
       "      <td>kosatec_bezlisty</td>\n",
       "    </tr>\n",
       "    <tr>\n",
       "      <th>147</th>\n",
       "      <td>6.5</td>\n",
       "      <td>3.0</td>\n",
       "      <td>5.2</td>\n",
       "      <td>2.0</td>\n",
       "      <td>kosatec_bezlisty</td>\n",
       "    </tr>\n",
       "    <tr>\n",
       "      <th>148</th>\n",
       "      <td>6.2</td>\n",
       "      <td>3.4</td>\n",
       "      <td>5.4</td>\n",
       "      <td>2.3</td>\n",
       "      <td>kosatec_bezlisty</td>\n",
       "    </tr>\n",
       "    <tr>\n",
       "      <th>149</th>\n",
       "      <td>5.9</td>\n",
       "      <td>3.0</td>\n",
       "      <td>5.1</td>\n",
       "      <td>1.8</td>\n",
       "      <td>kosatec_bezlisty</td>\n",
       "    </tr>\n",
       "  </tbody>\n",
       "</table>\n",
       "<p>150 rows × 5 columns</p>\n",
       "</div>"
      ],
      "text/plain": [
       "       0    1    2    3                 4\n",
       "0    5.1  3.5  1.4  0.2  kosatec_sibirsky\n",
       "1    4.9  3.0  1.4  0.2  kosatec_sibirsky\n",
       "2    4.7  3.2  1.3  0.2  kosatec_sibirsky\n",
       "3    4.6  3.1  1.5  0.2  kosatec_sibirsky\n",
       "4    5.0  3.6  1.4  0.2  kosatec_sibirsky\n",
       "..   ...  ...  ...  ...               ...\n",
       "145  6.7  3.0  5.2  2.3  kosatec_bezlisty\n",
       "146  6.3  2.5  5.0  1.9  kosatec_bezlisty\n",
       "147  6.5  3.0  5.2  2.0  kosatec_bezlisty\n",
       "148  6.2  3.4  5.4  2.3  kosatec_bezlisty\n",
       "149  5.9  3.0  5.1  1.8  kosatec_bezlisty\n",
       "\n",
       "[150 rows x 5 columns]"
      ]
     },
     "execution_count": 4,
     "metadata": {},
     "output_type": "execute_result"
    }
   ],
   "source": [
    "#načítanie csv suboru pomocou pandas knižnice\n",
    "df = pd.read_csv(\"kosatec_data.csv\",header = None)  \n",
    "df"
   ]
  },
  {
   "cell_type": "code",
   "execution_count": 5,
   "metadata": {},
   "outputs": [
    {
     "name": "stdout",
     "output_type": "stream",
     "text": [
      "[[5.1 1.4]\n",
      " [4.9 1.4]\n",
      " [4.7 1.3]\n",
      " [4.6 1.5]\n",
      " [5.  1.4]\n",
      " [5.4 1.7]\n",
      " [4.6 1.4]\n",
      " [5.  1.5]\n",
      " [4.4 1.4]\n",
      " [4.9 1.5]\n",
      " [5.4 1.5]\n",
      " [4.8 1.6]\n",
      " [4.8 1.4]\n",
      " [4.3 1.1]\n",
      " [5.8 1.2]\n",
      " [5.7 1.5]\n",
      " [5.4 1.3]\n",
      " [5.1 1.4]\n",
      " [5.7 1.7]\n",
      " [5.1 1.5]\n",
      " [5.4 1.7]\n",
      " [5.1 1.5]\n",
      " [4.6 1. ]\n",
      " [5.1 1.7]\n",
      " [4.8 1.9]\n",
      " [5.  1.6]\n",
      " [5.  1.6]\n",
      " [5.2 1.5]\n",
      " [5.2 1.4]\n",
      " [4.7 1.6]\n",
      " [4.8 1.6]\n",
      " [5.4 1.5]\n",
      " [5.2 1.5]\n",
      " [5.5 1.4]\n",
      " [4.9 1.5]\n",
      " [5.  1.2]\n",
      " [5.5 1.3]\n",
      " [4.9 1.5]\n",
      " [4.4 1.3]\n",
      " [5.1 1.5]\n",
      " [5.  1.3]\n",
      " [4.5 1.3]\n",
      " [4.4 1.3]\n",
      " [5.  1.6]\n",
      " [5.1 1.9]\n",
      " [4.8 1.4]\n",
      " [5.1 1.6]\n",
      " [4.6 1.4]\n",
      " [5.3 1.5]\n",
      " [5.  1.4]\n",
      " [7.  4.7]\n",
      " [6.4 4.5]\n",
      " [6.9 4.9]\n",
      " [5.5 4. ]\n",
      " [6.5 4.6]\n",
      " [5.7 4.5]\n",
      " [6.3 4.7]\n",
      " [4.9 3.3]\n",
      " [6.6 4.6]\n",
      " [5.2 3.9]\n",
      " [5.  3.5]\n",
      " [5.9 4.2]\n",
      " [6.  4. ]\n",
      " [6.1 4.7]\n",
      " [5.6 3.6]\n",
      " [6.7 4.4]\n",
      " [5.6 4.5]\n",
      " [5.8 4.1]\n",
      " [6.2 4.5]\n",
      " [5.6 3.9]\n",
      " [5.9 4.8]\n",
      " [6.1 4. ]\n",
      " [6.3 4.9]\n",
      " [6.1 4.7]\n",
      " [6.4 4.3]\n",
      " [6.6 4.4]\n",
      " [6.8 4.8]\n",
      " [6.7 5. ]\n",
      " [6.  4.5]\n",
      " [5.7 3.5]\n",
      " [5.5 3.8]\n",
      " [5.5 3.7]\n",
      " [5.8 3.9]\n",
      " [6.  5.1]\n",
      " [5.4 4.5]\n",
      " [6.  4.5]\n",
      " [6.7 4.7]\n",
      " [6.3 4.4]\n",
      " [5.6 4.1]\n",
      " [5.5 4. ]\n",
      " [5.5 4.4]\n",
      " [6.1 4.6]\n",
      " [5.8 4. ]\n",
      " [5.  3.3]\n",
      " [5.6 4.2]\n",
      " [5.7 4.2]\n",
      " [5.7 4.2]\n",
      " [6.2 4.3]\n",
      " [5.1 3. ]\n",
      " [5.7 4.1]]\n"
     ]
    }
   ],
   "source": [
    "# berie prvych 100 riadkov\n",
    "# iloc - integer location\n",
    "x = df.iloc[0:100, [0,2]].values\n",
    "print(x)"
   ]
  },
  {
   "cell_type": "code",
   "execution_count": 6,
   "metadata": {},
   "outputs": [
    {
     "data": {
      "text/plain": [
       "array(['kosatec_sibirsky', 'kosatec_sibirsky', 'kosatec_sibirsky',\n",
       "       'kosatec_sibirsky', 'kosatec_sibirsky', 'kosatec_sibirsky',\n",
       "       'kosatec_sibirsky', 'kosatec_sibirsky', 'kosatec_sibirsky',\n",
       "       'kosatec_sibirsky', 'kosatec_sibirsky', 'kosatec_sibirsky',\n",
       "       'kosatec_sibirsky', 'kosatec_sibirsky', 'kosatec_sibirsky',\n",
       "       'kosatec_sibirsky', 'kosatec_sibirsky', 'kosatec_sibirsky',\n",
       "       'kosatec_sibirsky', 'kosatec_sibirsky', 'kosatec_sibirsky',\n",
       "       'kosatec_sibirsky', 'kosatec_sibirsky', 'kosatec_sibirsky',\n",
       "       'kosatec_sibirsky', 'kosatec_sibirsky', 'kosatec_sibirsky',\n",
       "       'kosatec_sibirsky', 'kosatec_sibirsky', 'kosatec_sibirsky',\n",
       "       'kosatec_sibirsky', 'kosatec_sibirsky', 'kosatec_sibirsky',\n",
       "       'kosatec_sibirsky', 'kosatec_sibirsky', 'kosatec_sibirsky',\n",
       "       'kosatec_sibirsky', 'kosatec_sibirsky', 'kosatec_sibirsky',\n",
       "       'kosatec_sibirsky', 'kosatec_sibirsky', 'kosatec_sibirsky',\n",
       "       'kosatec_sibirsky', 'kosatec_sibirsky', 'kosatec_sibirsky',\n",
       "       'kosatec_sibirsky', 'kosatec_sibirsky', 'kosatec_sibirsky',\n",
       "       'kosatec_sibirsky', 'kosatec_sibirsky', 'kosatec_roznofarebny',\n",
       "       'kosatec_roznofarebny', 'kosatec_roznofarebny',\n",
       "       'kosatec_roznofarebny', 'kosatec_roznofarebny',\n",
       "       'kosatec_roznofarebny', 'kosatec_roznofarebny',\n",
       "       'kosatec_roznofarebny', 'kosatec_roznofarebny',\n",
       "       'kosatec_roznofarebny', 'kosatec_roznofarebny',\n",
       "       'kosatec_roznofarebny', 'kosatec_roznofarebny',\n",
       "       'kosatec_roznofarebny', 'kosatec_roznofarebny',\n",
       "       'kosatec_roznofarebny', 'kosatec_roznofarebny',\n",
       "       'kosatec_roznofarebny', 'kosatec_roznofarebny',\n",
       "       'kosatec_roznofarebny', 'kosatec_roznofarebny',\n",
       "       'kosatec_roznofarebny', 'kosatec_roznofarebny',\n",
       "       'kosatec_roznofarebny', 'kosatec_roznofarebny',\n",
       "       'kosatec_roznofarebny', 'kosatec_roznofarebny',\n",
       "       'kosatec_roznofarebny', 'kosatec_roznofarebny',\n",
       "       'kosatec_roznofarebny', 'kosatec_roznofarebny',\n",
       "       'kosatec_roznofarebny', 'kosatec_roznofarebny',\n",
       "       'kosatec_roznofarebny', 'kosatec_roznofarebny',\n",
       "       'kosatec_roznofarebny', 'kosatec_roznofarebny',\n",
       "       'kosatec_roznofarebny', 'kosatec_roznofarebny',\n",
       "       'kosatec_roznofarebny', 'kosatec_roznofarebny',\n",
       "       'kosatec_roznofarebny', 'kosatec_roznofarebny',\n",
       "       'kosatec_roznofarebny', 'kosatec_roznofarebny',\n",
       "       'kosatec_roznofarebny', 'kosatec_roznofarebny',\n",
       "       'kosatec_roznofarebny', 'kosatec_roznofarebny',\n",
       "       'kosatec_roznofarebny'], dtype=object)"
      ]
     },
     "execution_count": 6,
     "metadata": {},
     "output_type": "execute_result"
    }
   ],
   "source": [
    "# vypíše prvých 100\n",
    "y = df.iloc[0:100, 4].values\n",
    "y"
   ]
  },
  {
   "cell_type": "code",
   "execution_count": 7,
   "metadata": {},
   "outputs": [
    {
     "data": {
      "text/plain": [
       "array([-1, -1, -1, -1, -1, -1, -1, -1, -1, -1, -1, -1, -1, -1, -1, -1, -1,\n",
       "       -1, -1, -1, -1, -1, -1, -1, -1, -1, -1, -1, -1, -1, -1, -1, -1, -1,\n",
       "       -1, -1, -1, -1, -1, -1, -1, -1, -1, -1, -1, -1, -1, -1, -1, -1,  1,\n",
       "        1,  1,  1,  1,  1,  1,  1,  1,  1,  1,  1,  1,  1,  1,  1,  1,  1,\n",
       "        1,  1,  1,  1,  1,  1,  1,  1,  1,  1,  1,  1,  1,  1,  1,  1,  1,\n",
       "        1,  1,  1,  1,  1,  1,  1,  1,  1,  1,  1,  1,  1,  1,  1])"
      ]
     },
     "execution_count": 7,
     "metadata": {},
     "output_type": "execute_result"
    }
   ],
   "source": [
    "#vypíše -1 kde je kosatec sibírky a kde je 1 tak je inej farby \n",
    "skup1 = np.where(y == \"kosatec_sibirsky\", -1, 1) \n",
    "skup1"
   ]
  },
  {
   "cell_type": "code",
   "execution_count": 8,
   "metadata": {},
   "outputs": [
    {
     "data": {
      "image/png": "[encoded data removed]",
      "text/plain": [
       "<Figure size 432x288 with 1 Axes>"
      ]
     },
     "metadata": {
      "needs_background": "light"
     },
     "output_type": "display_data"
    }
   ],
   "source": [
    "# Z poľa X vykreslím prvých 50 riadkov v stĺpci 0 a 1  \n",
    "plt.scatter(x[:50, 0], x[:50, 1], color='red', marker='o', label='kosatec_sibirsky')\n",
    "\n",
    "# Z poľa X si vykreslím druhých 50 riadkov toho istého 0 1\n",
    "plt.scatter(x[50:100, 0], x[50:100, 1], color='blue', marker='x', label='kosatec_roznofarebny')\n",
    "\n",
    "plt.xlabel('petal length')\n",
    "plt.ylabel('sepal length')\n",
    "\n",
    "plt.legend(loc='upper left')\n",
    "\n",
    "plt.show()\n",
    "\n",
    "#dáta sú lineárne separovateľné"
   ]
  },
  {
   "cell_type": "code",
   "execution_count": 9,
   "metadata": {},
   "outputs": [
    {
     "data": {
      "image/png": "[encoded data removed]",
      "text/plain": [
       "<Figure size 432x288 with 1 Axes>"
      ]
     },
     "metadata": {
      "needs_background": "light"
     },
     "output_type": "display_data"
    }
   ],
   "source": [
    "#trenujeme preceptron na zaklade dát čo sme dali \n",
    "#inštancia triedy perceptrón, rýchlosť učenia nastavená na 0.1 a počet iterácii na 10\n",
    "\n",
    "pn = Perceptron(0.1, 10)\n",
    "pn.fit(x, skup1)\n",
    "\n",
    "plt.plot(range(1, len(pn.errors_) + 1), pn.errors_, marker='o')\n",
    "plt.xlabel('Iteracia')\n",
    "plt.ylabel('Chybovosť')\n",
    "plt.show()\n",
    "\n",
    "# tu vidíme kedy percentron začne kornvegovať, čiže až na 6tej iteracií"
   ]
  },
  {
   "cell_type": "code",
   "execution_count": 10,
   "metadata": {},
   "outputs": [
    {
     "data": {
      "image/png": "[encoded data removed]",
      "text/plain": [
       "<Figure size 432x288 with 1 Axes>"
      ]
     },
     "metadata": {
      "needs_background": "light"
     },
     "output_type": "display_data"
    }
   ],
   "source": [
    "x = df.iloc[0:150, [0,2]].values\n",
    "\n",
    "# teraz vypisujem od z pola 50:100 z 0 1 hodnotami \n",
    "plt.scatter(x[50:100,0],x[50:100,1],color='red',label='kosatec_roznofarebny')\n",
    "# tu zas vypisujem 100:150 \n",
    "plt.scatter(x[100:150,0],x[100:150,1],color='blue',label='kosatec_bezlisty')\n",
    "\n",
    "\n",
    "plt.xlabel('sepal length')\n",
    "plt.ylabel('petal length')\n",
    "\n",
    "plt.legend()\n",
    "plt.show()"
   ]
  },
  {
   "cell_type": "code",
   "execution_count": 11,
   "metadata": {},
   "outputs": [
    {
     "name": "stdout",
     "output_type": "stream",
     "text": [
      "[1, 3, 3, 2, 1, 0, 0, 0, 0, 0]\n"
     ]
    },
    {
     "data": {
      "image/png": "[encoded data removed]",
      "text/plain": [
       "<Figure size 432x288 with 1 Axes>"
      ]
     },
     "metadata": {
      "needs_background": "light"
     },
     "output_type": "display_data"
    }
   ],
   "source": [
    "skup2=np.where(y=='kosatec_roznofarebny',-1,1) \n",
    "ppn=Perceptron(0.1, 10)\n",
    "\n",
    "ppn.fit(x,skup2)\n",
    "\n",
    "print(ppn.errors_)\n",
    "plt.plot(ppn.errors_)\n",
    "\n",
    "plt.xlabel('pocet iteracii ') #number of epochs(počet prejdení po datasete)\n",
    "plt.ylabel('error')\n",
    "plt.show()#zobrazenie grafu"
   ]
  },
  {
   "cell_type": "code",
   "execution_count": 12,
   "metadata": {},
   "outputs": [
    {
     "name": "stdout",
     "output_type": "stream",
     "text": [
      "[1, 3, 3, 3, 2, 2, 2, 2, 2, 2]\n"
     ]
    },
    {
     "data": {
      "image/png": "[encoded data removed]",
      "text/plain": [
       "<Figure size 432x288 with 1 Axes>"
      ]
     },
     "metadata": {
      "needs_background": "light"
     },
     "output_type": "display_data"
    }
   ],
   "source": [
    "x = df.iloc[0:150, [0,2]].values # nastavenie hodnôt a iterácií \n",
    "y = df.iloc[0:150, 4].values\n",
    "skup3=np.where(y=='kosatec_bezlisty',-1,1)# v 5 stplci ak sa nachádza tak bude chytať hodnoty \n",
    "ppn=Perceptron(0.1, 10)# nastavenie rychhlosti perceptrona\n",
    "\n",
    "ppn.fit(x,skup3)\n",
    "\n",
    "print(ppn.errors_)\n",
    "plt.plot(ppn.errors_)\n",
    "\n",
    "plt.xlabel('pocet iteracii ') #number of epochs(počet prejdení po datasete)\n",
    "plt.ylabel('error')\n",
    "plt.show() #zobrazenie grafu"
   ]
  },
  {
   "cell_type": "code",
   "execution_count": 13,
   "metadata": {},
   "outputs": [
    {
     "data": {
      "image/png": "[encoded data removed]",
      "text/plain": [
       "<Figure size 432x288 with 1 Axes>"
      ]
     },
     "metadata": {
      "needs_background": "light"
     },
     "output_type": "display_data"
    }
   ],
   "source": [
    "# musíme si načítať väčšiu inštanciu od 0:150 aby nám zobralo aj kosatec_bezlisty\n",
    "x = df.iloc[0:150, [0,2]].values\n",
    "\n",
    "plt.scatter(x[:50, 0], x[:50, 1], color='red', marker='o', label='kosatec_sibirsky')\n",
    "# tu zas vypisujem 100:150 \n",
    "plt.scatter(x[100:150, 0],x[100:150, 1],color='blue', marker='o', label='kosatec_bezlisty')\n",
    "\n",
    "\n",
    "plt.xlabel('sepal length')\n",
    "plt.ylabel('petal length')\n",
    "\n",
    "plt.legend() # grafi sa len porovnavjú medzi sebou podla hodnouť a podľa iterácií kde sa ktorý nachádza\n",
    "plt.show()"
   ]
  },
  {
   "cell_type": "code",
   "execution_count": 1,
   "metadata": {},
   "outputs": [
    {
     "ename": "NameError",
     "evalue": "name 'dataset' is not defined",
     "output_type": "error",
     "traceback": [
      "\u001b[1;31m---------------------------------------------------------------------------\u001b[0m",
      "\u001b[1;31mNameError\u001b[0m                                 Traceback (most recent call last)",
      "\u001b[1;32m<ipython-input-1-cdf56ecbe088>\u001b[0m in \u001b[0;36m<module>\u001b[1;34m\u001b[0m\n\u001b[1;32m----> 1\u001b[1;33m \u001b[0msorted_dataset\u001b[0m\u001b[1;33m=\u001b[0m \u001b[0mdataset\u001b[0m\u001b[1;33m.\u001b[0m\u001b[0msort_values\u001b[0m\u001b[1;33m(\u001b[0m\u001b[0mby\u001b[0m\u001b[1;33m=\u001b[0m\u001b[1;33m[\u001b[0m\u001b[1;34m\"Country\"\u001b[0m\u001b[1;33m]\u001b[0m\u001b[1;33m,\u001b[0m \u001b[0mascending\u001b[0m\u001b[1;33m=\u001b[0m\u001b[1;32mFalse\u001b[0m\u001b[1;33m)\u001b[0m\u001b[1;33m\u001b[0m\u001b[1;33m\u001b[0m\u001b[0m\n\u001b[0m\u001b[0;32m      2\u001b[0m \u001b[1;33m\u001b[0m\u001b[0m\n\u001b[0;32m      3\u001b[0m \u001b[0msorted_dataset\u001b[0m\u001b[1;33m.\u001b[0m\u001b[0mhead\u001b[0m\u001b[1;33m(\u001b[0m\u001b[1;33m)\u001b[0m\u001b[1;33m\u001b[0m\u001b[1;33m\u001b[0m\u001b[0m\n\u001b[0;32m      4\u001b[0m \u001b[1;33m\u001b[0m\u001b[0m\n\u001b[0;32m      5\u001b[0m \u001b[0msorted_dataset\u001b[0m\u001b[1;33m.\u001b[0m\u001b[0mto_excel\u001b[0m\u001b[1;33m(\u001b[0m\u001b[1;34mr'simko,skuška.xlsx'\u001b[0m\u001b[1;33m,\u001b[0m \u001b[0msheet_name\u001b[0m \u001b[1;33m=\u001b[0m \u001b[1;34m'main'\u001b[0m\u001b[1;33m,\u001b[0m \u001b[0mindex\u001b[0m\u001b[1;33m=\u001b[0m\u001b[1;32mNone\u001b[0m\u001b[1;33m)\u001b[0m\u001b[1;33m\u001b[0m\u001b[1;33m\u001b[0m\u001b[0m\n",
      "\u001b[1;31mNameError\u001b[0m: name 'dataset' is not defined"
     ]
    }
   ],
   "source": [
    "sorted_dataset= dataset.sort_values(by=[\"Country\"], ascending=False)\n",
    "\n",
    "sorted_dataset.head()\n",
    "\n",
    "sorted_dataset= sorted_dataset.iloc[1:]\n",
    "\n",
    "sorted_dataset.to_excel(r'simko,skuška.xlsx', sheet_name = 'main', index=None)\n",
    "\n",
    "df= pd.read_excel(\"simko,skuška.xlsx\")\n"
   ]
  },
  {
   "cell_type": "code",
   "execution_count": null,
   "metadata": {},
   "outputs": [],
   "source": []
  }
 ],
 "metadata": {
  "kernelspec": {
   "display_name": "Python 3",
   "language": "python",
   "name": "python3"
  },
  "language_info": {
   "codemirror_mode": {
    "name": "ipython",
    "version": 3
   },
   "file_extension": ".py",
   "mimetype": "text/x-python",
   "name": "python",
   "nbconvert_exporter": "python",
   "pygments_lexer": "ipython3",
   "version": "3.8.5"
  }
 },
 "nbformat": 4,
 "nbformat_minor": 2
}
